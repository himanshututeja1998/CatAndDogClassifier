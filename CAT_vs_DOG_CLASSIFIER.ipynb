{
  "nbformat": 4,
  "nbformat_minor": 0,
  "metadata": {
    "colab": {
      "name": "CAT vs DOG CLASSIFIER",
      "version": "0.3.2",
      "provenance": [],
      "collapsed_sections": []
    },
    "kernelspec": {
      "name": "python3",
      "display_name": "Python 3"
    },
    "accelerator": "GPU"
  },
  "cells": [
    {
      "metadata": {
        "id": "rw1EAfYnxqbu",
        "colab_type": "code",
        "colab": {}
      },
      "cell_type": "code",
      "source": [
        "from google.colab import files\n",
        "files.upload()"
      ],
      "execution_count": 0,
      "outputs": []
    },
    {
      "metadata": {
        "id": "P2Qbx6_Xxte7",
        "colab_type": "code",
        "colab": {}
      },
      "cell_type": "code",
      "source": [
        "!pip install -q kaggle"
      ],
      "execution_count": 0,
      "outputs": []
    },
    {
      "metadata": {
        "id": "H3XWvcflx0X4",
        "colab_type": "code",
        "colab": {}
      },
      "cell_type": "code",
      "source": [
        "!mkdir -p ~/.kaggle\n",
        "!cp kaggle.json ~/.kaggle/\n"
      ],
      "execution_count": 0,
      "outputs": []
    },
    {
      "metadata": {
        "id": "ziMArdyIx3K5",
        "colab_type": "code",
        "colab": {}
      },
      "cell_type": "code",
      "source": [
        "!kaggle competitions download -c dogs-vs-cats"
      ],
      "execution_count": 0,
      "outputs": []
    },
    {
      "metadata": {
        "id": "hlXPdkJ-x58w",
        "colab_type": "code",
        "colab": {}
      },
      "cell_type": "code",
      "source": [
        "import zipfile"
      ],
      "execution_count": 0,
      "outputs": []
    },
    {
      "metadata": {
        "id": "0QBmT1_AyByJ",
        "colab_type": "code",
        "colab": {}
      },
      "cell_type": "code",
      "source": [
        "with zipfile.ZipFile(\"/content/test1.zip\",\"r\") as zp:\n",
        "  zp.extractall(\"content/test1\")"
      ],
      "execution_count": 0,
      "outputs": []
    },
    {
      "metadata": {
        "id": "9m0ISolNyEyQ",
        "colab_type": "code",
        "colab": {}
      },
      "cell_type": "code",
      "source": [
        "with zipfile.ZipFile(\"/content/train.zip\",\"r\") as zp:\n",
        "  zp.extractall(\"content/train\")"
      ],
      "execution_count": 0,
      "outputs": []
    },
    {
      "metadata": {
        "id": "MvdyhwIm0Usp",
        "colab_type": "code",
        "colab": {}
      },
      "cell_type": "code",
      "source": [
        "import cv2\n",
        "datadir='content/train/train'\n",
        "#{'cat':0,'dog':1}\n",
        "training_data=[]\n",
        "import os\n",
        "IMG_SIZE=50\n",
        "for img in os.listdir(datadir):\n",
        "  #print(img)\n",
        "  q=img\n",
        "  a=q.split('.')[0]\n",
        "  if a=='cat':\n",
        "    class_num=0\n",
        "  else:\n",
        "    class_num=1\n",
        "  img_array=cv2.imread(os.path.join(datadir,img),cv2.IMREAD_GRAYSCALE)\n",
        "  new_array=cv2.resize(img_array,(IMG_SIZE,IMG_SIZE))\n",
        "  training_data.append([new_array,class_num])\n",
        "  \n",
        "print(len(training_data))\n"
      ],
      "execution_count": 0,
      "outputs": []
    },
    {
      "metadata": {
        "id": "gPi1Hu6f124q",
        "colab_type": "code",
        "colab": {}
      },
      "cell_type": "code",
      "source": [
        "import random\n",
        "import numpy as np\n",
        "random.shuffle(training_data)\n",
        "X=[]\n",
        "y=[]\n",
        "for features,label in training_data:\n",
        "    X.append(features)\n",
        "    y.append(label)\n",
        "X=np.array(X).reshape(-1,IMG_SIZE,IMG_SIZE,1)"
      ],
      "execution_count": 0,
      "outputs": []
    },
    {
      "metadata": {
        "id": "Mf26d4ELYYVY",
        "colab_type": "code",
        "colab": {}
      },
      "cell_type": "code",
      "source": [
        "!pip install --upgrade tensorflow\n"
      ],
      "execution_count": 0,
      "outputs": []
    },
    {
      "metadata": {
        "id": "52rk80GLVKFN",
        "colab_type": "code",
        "colab": {}
      },
      "cell_type": "code",
      "source": [
        "import tensorflow as tf\n",
        "from tensorflow import keras\n",
        "from tensorflow.python.keras.models import Sequential\n",
        "from tensorflow.python.keras.layers.core import Dense,Activation,Flatten\n",
        "from tensorflow.python.keras.layers.convolutional import Conv2D,MaxPooling2D\n",
        "import pickle\n",
        "from tensorflow.python.keras.callbacks import TensorBoard\n",
        "import time\n",
        "#NAME='CAT_vs_DOG_CNN_64x2-{}'.format(int(time.time()))\n",
        "#gpu_option=tf.GPUoptions(per_process_gpu_memory_fraction=0.333)\n",
        "#sess=tf.Session(config=tf.ConfigProto(gpu_options=gpu_option))\n",
        "#X=pickle.load(\"x.pickle\",'rd')\n",
        "#y=pickle.load(\"y.pickle\",'rd')\n",
        "X=X/255.0\n",
        "#optimize the model\n",
        "dense_layers=[0,1,2]\n",
        "layer_sizes=[32,64,128]\n",
        "conv_layers=[1,2,3]\n",
        "for dense_layer in dense_layers:\n",
        "    for layer_size in layer_sizes:\n",
        "        for conv_layer in conv_layers:\n",
        "            NAME=\"{}-conv-{}-nodes-{}-dense-{}\".format(conv_layer,layer_size,dense_layer,int(time.time()))\n",
        "            tensorboard=TensorBoard(log_dir='logs_new/{}'.format(NAME))\n",
        "\n",
        "            model=Sequential()\n",
        "            model.add(Conv2D(layer_size,(3,3),input_shape=X.shape[1:]))\n",
        "            model.add(Activation(\"relu\"))\n",
        "            model.add(MaxPooling2D(pool_size=(2,2)))\n",
        "            for l in range(conv_layer-1):\n",
        "                model.add(Conv2D(layer_size,(3,3)))\n",
        "                model.add(Activation(\"relu\"))\n",
        "                model.add(MaxPooling2D(pool_size=(2,2)))\n",
        "\n",
        "            model.add(Flatten())\n",
        "            for l in range(dense_layer):\n",
        "                model.add(Dense(layer_size))\n",
        "                #model.add(Activation(\"relu\"))\n",
        "            model.add(Dense(1))\n",
        "            model.add(Activation('sigmoid'))\n",
        "            model.compile(loss='binary_crossentropy',\n",
        "                         optimizer='adam',\n",
        "                         metrics=['accuracy'])\n",
        "            model.fit(X,y,batch_size=32,epochs=3,validation_split=0.1,callbacks=[tensorboard])\n",
        "            #at cmd type tensorboard --logdir=logs/ it will give the graphs."
      ],
      "execution_count": 0,
      "outputs": []
    },
    {
      "metadata": {
        "id": "mPM3DIayYKZA",
        "colab_type": "code",
        "colab": {}
      },
      "cell_type": "code",
      "source": [
        "\n",
        " "
      ],
      "execution_count": 0,
      "outputs": []
    }
  ]
}